{
 "cells": [
  {
   "cell_type": "markdown",
   "id": "3af4f7b3",
   "metadata": {},
   "source": [
    "## Import required libraries"
   ]
  },
  {
   "cell_type": "code",
   "execution_count": 3,
   "id": "d4efd2d9",
   "metadata": {},
   "outputs": [],
   "source": [
    "# import all libraries and modules\n",
    "import sys; import os\n",
    "import pytraj as pt\n",
    "from sklearn.decomposition import PCA\n",
    "import numpy as np\n",
    "import scipy\n",
    "\n",
    "# for plotting\n",
    "import matplotlib.pyplot as plt\n",
    "from mpl_toolkits.mplot3d import proj3d\n",
    "from matplotlib.patches import Circle\n",
    "from mpl_toolkits.mplot3d import art3d"
   ]
  },
  {
   "cell_type": "markdown",
   "id": "3ac17644",
   "metadata": {},
   "source": [
    "## Import modules from BKit"
   ]
  },
  {
   "cell_type": "code",
   "execution_count": 4,
   "id": "4c3b0cc6",
   "metadata": {},
   "outputs": [],
   "source": [
    "from BKit.Utils import SplitEvenOdd, PlotSelected\n",
    "from BKit.ConstructMilestones3D import SortFrames\n",
    "\n",
    "from BKit.TransitionKernel import TransitionKernel\n",
    "from BKit.KinSolvers import KineticsQK"
   ]
  },
  {
   "cell_type": "markdown",
   "id": "543d3d8a",
   "metadata": {},
   "source": [
    "## Set  path & load previoulsly saved data"
   ]
  },
  {
   "cell_type": "code",
   "execution_count": 5,
   "id": "21765cb5",
   "metadata": {},
   "outputs": [],
   "source": [
    "DIR_SAVE = '../output/'\n",
    "inp = np.load(DIR_SAVE + '/MlPosNorms.npy')\n",
    "dat = np.load('/home/talant/Projects/UCRiver/Milestoning/ForRuben/output/PCA' + '/PCA.npy')\n",
    "pathAll = inp[:,0:3];  normalsAll = inp[:,3:6]"
   ]
  },
  {
   "cell_type": "code",
   "execution_count": 6,
   "id": "fe633c43",
   "metadata": {},
   "outputs": [],
   "source": [
    "diskID, midID = SplitEvenOdd(N=pathAll.shape[0])\n",
    "pathMid = pathAll[midID]\n",
    "pathP = pathAll[diskID]\n",
    "normalsMid = normalsAll[midID]\n",
    "normals = normalsAll[diskID]\n",
    "\n",
    "n_cells = normalsMid.shape[0]\n",
    "n_disks = normals.shape[0]\n",
    "nf = dat.shape[0] "
   ]
  },
  {
   "cell_type": "code",
   "execution_count": null,
   "id": "d5b62521",
   "metadata": {},
   "outputs": [],
   "source": []
  },
  {
   "cell_type": "code",
   "execution_count": null,
   "id": "41a14c56",
   "metadata": {
    "scrolled": false
   },
   "outputs": [
    {
     "name": "stdout",
     "output_type": "stream",
     "text": [
      "Total points 8620000\n"
     ]
    }
   ],
   "source": [
    "out_dir = 'out/'\n",
    "T=1000\n",
    "print('Total points', nf)\n",
    "TransK = TransitionKernel(traj_size=T, OutCellID=1000, check_escape=True)\n",
    "nM = n_cells\n",
    "SortF = SortFrames(dat, dr=2.0, dz = 0.1)\n",
    "datMid, CellIndx = SortF.SortAllPoints(normals, normalsMid, pathP, pathMid, SortMethod='middle')\n",
    "   "
   ]
  },
  {
   "cell_type": "code",
   "execution_count": 7,
   "id": "aa5d48a2",
   "metadata": {},
   "outputs": [
    {
     "name": "stdout",
     "output_type": "stream",
     "text": [
      "number of trajs 13020\n",
      "Total transitions =  24975\n",
      "Time fraction --  50\n",
      "number of trajs 13020\n",
      "Total transitions =  29796\n",
      "Time fraction --  60\n",
      "number of trajs 13020\n",
      "Total transitions =  34585\n",
      "Time fraction --  70\n",
      "number of trajs 13020\n",
      "Total transitions =  39388\n",
      "Time fraction --  80\n",
      "number of trajs 13020\n",
      "Total transitions =  44038\n",
      "Time fraction --  90\n",
      "number of trajs 13020\n",
      "Total transitions =  48772\n",
      "Time fraction --  100\n"
     ]
    }
   ],
   "source": [
    "# Collect IPD on PC1/PC2/PC3 space\n",
    "GI = []\n",
    "for j in range(6):\n",
    "    global_idx = []\n",
    "    fr = 0.5 + 0.1*j\n",
    "    TRANS = TransK.AllTrans(CellIndx, frac=fr)\n",
    "    print('Time fraction -- ', int(fr*100))\n",
    " \n",
    "    for m in range(1, nM - 1):\n",
    "        index = TRANS[:,1] == m\n",
    "        tmp = TRANS[index]\n",
    "        idx = T*tmp[:,0] + tmp[:,3]\n",
    "        global_idx.append(idx) #frame indx for hits\n",
    "    GI.append(global_idx)"
   ]
  },
  {
   "cell_type": "code",
   "execution_count": 42,
   "id": "0556c348",
   "metadata": {},
   "outputs": [],
   "source": []
  },
  {
   "cell_type": "code",
   "execution_count": 8,
   "id": "4a21f3b0",
   "metadata": {},
   "outputs": [],
   "source": [
    "G_ipd = []\n",
    "for j in range(6):\n",
    "    IPD=[]\n",
    "    for m, i in enumerate(GI[j]):\n",
    "        dist_ = np.sqrt((dat[i,0] - pathP[m,0])**2 +\n",
    "                        (dat[i,1] - pathP[m,1])**2 +\n",
    "                        (dat[i,2] - pathP[m,2])**2)\n",
    "        IPD.append(dist_)\n",
    "    G_ipd.append(IPD)"
   ]
  },
  {
   "cell_type": "code",
   "execution_count": 9,
   "id": "00cf0f1d",
   "metadata": {},
   "outputs": [
    {
     "data": {
      "text/plain": [
       "(316,)"
      ]
     },
     "execution_count": 9,
     "metadata": {},
     "output_type": "execute_result"
    }
   ],
   "source": [
    "G_ipd[0][0].shape"
   ]
  },
  {
   "cell_type": "code",
   "execution_count": null,
   "id": "7c5ab4e0",
   "metadata": {},
   "outputs": [],
   "source": []
  },
  {
   "cell_type": "code",
   "execution_count": 32,
   "id": "58cb884c",
   "metadata": {},
   "outputs": [
    {
     "data": {
      "image/png": "[encoded data removed]",
      "text/plain": [
       "<Figure size 187.2x129.6 with 1 Axes>"
      ]
     },
     "metadata": {
      "needs_background": "light"
     },
     "output_type": "display_data"
    }
   ],
   "source": [
    "m=71\n",
    "fs = 7\n",
    "bins=10\n",
    "fig = plt.figure(figsize=[2.6, 1.8])\n",
    "pl_name = 'PL1_OH'\n",
    "for j in range(1,6):\n",
    "    fr = 0.5 + 0.1*j\n",
    "    plt.hist(G_ipd[j][m], bins=bins, #color='r',\n",
    "             alpha=0.7, density=True, fill=False, \n",
    "             histtype='step', linewidth=1.5, \n",
    "             label = str(int(fr*100)) + ' ps ' + '(' + str(len(G_ipd[j][m])) +')' )\n",
    "\n",
    "plt.title('Disk %d'%(m), fontsize=fs)\n",
    "plt.legend(loc=1,fontsize=fs-1, frameon=False)\n",
    "plt.tick_params(labelsize=fs)\n",
    "plt.xlim([2, 16])\n",
    "plt.ylim([0,0.4])\n",
    "plt.tight_layout()\n",
    "plt.savefig(pl_name + 'IPD_disk' + str(m) + '.pdf')\n"
   ]
  },
  {
   "cell_type": "code",
   "execution_count": null,
   "id": "b6197006",
   "metadata": {},
   "outputs": [],
   "source": []
  }
 ],
 "metadata": {
  "kernelspec": {
   "display_name": "Python 3 (ipykernel)",
   "language": "python",
   "name": "python3"
  },
  "language_info": {
   "codemirror_mode": {
    "name": "ipython",
    "version": 3
   },
   "file_extension": ".py",
   "mimetype": "text/x-python",
   "name": "python",
   "nbconvert_exporter": "python",
   "pygments_lexer": "ipython3",
   "version": "3.8.5"
  }
 },
 "nbformat": 4,
 "nbformat_minor": 5
}
