{
 "cells": [
  {
   "cell_type": "markdown",
   "id": "3af4f7b3",
   "metadata": {},
   "source": [
    "## Import required libraries"
   ]
  },
  {
   "cell_type": "code",
   "execution_count": 1,
   "id": "d4efd2d9",
   "metadata": {},
   "outputs": [],
   "source": [
    "# import all libraries and modules\n",
    "import sys; import os\n",
    "import pytraj as pt\n",
    "from sklearn.decomposition import PCA\n",
    "import numpy as np\n",
    "import scipy\n",
    "\n",
    "# for plotting\n",
    "import matplotlib.pyplot as plt\n",
    "from mpl_toolkits.mplot3d import proj3d\n",
    "from matplotlib.patches import Circle\n",
    "from mpl_toolkits.mplot3d import art3d"
   ]
  },
  {
   "cell_type": "markdown",
   "id": "3ac17644",
   "metadata": {},
   "source": [
    "## Import modules from BKit"
   ]
  },
  {
   "cell_type": "code",
   "execution_count": 2,
   "id": "4c3b0cc6",
   "metadata": {},
   "outputs": [],
   "source": [
    "from BKit.Utils import SplitEvenOdd, PlotSelected\n",
    "from BKit.ConstructMilestones3D import SortFrames"
   ]
  },
  {
   "cell_type": "markdown",
   "id": "b3809036",
   "metadata": {},
   "source": [
    "## Set model parameters"
   ]
  },
  {
   "cell_type": "code",
   "execution_count": null,
   "id": "cf301bcd",
   "metadata": {},
   "outputs": [],
   "source": [
    "ml_length = 0.8    # distance between milestones\n",
    "dr = 2.0           # milestone radius (disk radius)\n",
    "dim = 3            # pc dimention    \n",
    "yz_pad = 8\n",
    "dz = 0.2"
   ]
  },
  {
   "cell_type": "markdown",
   "id": "543d3d8a",
   "metadata": {},
   "source": [
    "## Set  path & load previoulsly saved data"
   ]
  },
  {
   "cell_type": "code",
   "execution_count": 4,
   "id": "21765cb5",
   "metadata": {},
   "outputs": [],
   "source": [
    "DIR_SAVE = '../output'\n",
    "inp = np.load(DIR_SAVE + '/MlPosNorms.npy')\n",
    "dat = np.load('/home/talant/Projects/UCRiver/Milestoning/CDK8/PL1_OH/output' + '/PCA.npy')\n",
    "pathAll = inp[:,0:3];  normalsAll = inp[:,3:6]"
   ]
  },
  {
   "cell_type": "code",
   "execution_count": 5,
   "id": "fe633c43",
   "metadata": {},
   "outputs": [],
   "source": [
    "diskID, midID = SplitEvenOdd(N=pathAll.shape[0])\n",
    "pathMid = pathAll[midID];       pathP = pathAll[diskID]    \n",
    "normalsMid = normalsAll[midID]; normals = normalsAll[diskID]       \n",
    "\n",
    "n_cells = normalsMid.shape[0]\n",
    "n_disks = normals.shape[0]"
   ]
  },
  {
   "cell_type": "code",
   "execution_count": 6,
   "id": "41a14c56",
   "metadata": {},
   "outputs": [],
   "source": [
    "SortF = SortFrames(dat,dr,dz)\n",
    "datMid, CellIndx = SortF.SortAllPoints(normals, normalsMid, pathP, pathMid, SortMethod='middle')"
   ]
  },
  {
   "cell_type": "code",
   "execution_count": 7,
   "id": "7c42ac30",
   "metadata": {
    "scrolled": true
   },
   "outputs": [
    {
     "name": "stdout",
     "output_type": "stream",
     "text": [
      "total frames 13020000\n",
      "Number of selected points 4962946\n",
      "Number of Cells  96\n",
      "Number of Disks  97\n"
     ]
    }
   ],
   "source": [
    "nf = dat.shape[0] \n",
    "n_sel = datMid.shape[0]\n",
    "print('total frames',nf)\n",
    "print('Number of selected points', n_sel)\n",
    "print('Number of Cells ', n_cells)\n",
    "print('Number of Disks ', n_disks)"
   ]
  },
  {
   "cell_type": "code",
   "execution_count": 8,
   "id": "12e8b795",
   "metadata": {},
   "outputs": [],
   "source": [
    "tmp=datMid[(datMid[:,3] > 37) & (datMid[:,3] < 56)]\n",
    "n_sel = tmp.shape[0]\n",
    "\n",
    "rand_sel = np.random.randint(0, n_sel, 50000)\n",
    "datPlot = tmp[rand_sel,:]"
   ]
  },
  {
   "cell_type": "code",
   "execution_count": null,
   "id": "34af8c65",
   "metadata": {},
   "outputs": [],
   "source": []
  },
  {
   "cell_type": "markdown",
   "id": "623b6853",
   "metadata": {},
   "source": [
    "## Label all States & Visualize Subset and Save"
   ]
  },
  {
   "cell_type": "code",
   "execution_count": 9,
   "id": "5970248e",
   "metadata": {},
   "outputs": [
    {
     "data": {
      "application/vnd.jupyter.widget-view+json": {
       "model_id": "7c10fcb2bebb4e3f8b4212fcfceb62e4",
       "version_major": 2,
       "version_minor": 0
      },
      "text/plain": [
       "Canvas(toolbar=Toolbar(toolitems=[('Home', 'Reset original view', 'home', 'home'), ('Back', 'Back to previous …"
      ]
     },
     "metadata": {},
     "output_type": "display_data"
    }
   ],
   "source": [
    "%matplotlib widget\n",
    "PlotSelected(datPlot, dr, pathP, normals, yz_pad, figsize=[8,6])\n",
    "\n"
   ]
  },
  {
   "cell_type": "code",
   "execution_count": 10,
   "id": "8e67ef07",
   "metadata": {},
   "outputs": [
    {
     "name": "stdout",
     "output_type": "stream",
     "text": [
      "writing outputs to /home/talant/Projects/UCRiver/Milestoning/MileStoningKit/output\n"
     ]
    }
   ],
   "source": [
    "print(\"writing outputs to \" + DIR_SAVE)\n",
    "np.save(DIR_SAVE + '/CellIndx.npy', CellIndx)"
   ]
  },
  {
   "cell_type": "code",
   "execution_count": null,
   "id": "14a5fea6",
   "metadata": {},
   "outputs": [],
   "source": []
  }
 ],
 "metadata": {
  "kernelspec": {
   "display_name": "Python 3 (ipykernel)",
   "language": "python",
   "name": "python3"
  },
  "language_info": {
   "codemirror_mode": {
    "name": "ipython",
    "version": 3
   },
   "file_extension": ".py",
   "mimetype": "text/x-python",
   "name": "python",
   "nbconvert_exporter": "python",
   "pygments_lexer": "ipython3",
   "version": "3.8.5"
  }
 },
 "nbformat": 4,
 "nbformat_minor": 5
}
