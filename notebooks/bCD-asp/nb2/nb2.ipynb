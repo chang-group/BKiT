{
 "cells": [
  {
   "cell_type": "markdown",
   "id": "3af4f7b3",
   "metadata": {},
   "source": [
    "## Import required libraries"
   ]
  },
  {
   "cell_type": "code",
   "execution_count": 13,
   "id": "d4efd2d9",
   "metadata": {},
   "outputs": [],
   "source": [
    "# import all libraries and modules\n",
    "import sys; import os\n",
    "import pytraj as pt\n",
    "from sklearn.decomposition import PCA\n",
    "import numpy as np\n",
    "import scipy\n",
    "\n",
    "# for plotting\n",
    "import matplotlib.pyplot as plt\n",
    "from mpl_toolkits.mplot3d import proj3d\n",
    "from matplotlib.patches import Circle\n",
    "from mpl_toolkits.mplot3d import art3d"
   ]
  },
  {
   "cell_type": "markdown",
   "id": "3ac17644",
   "metadata": {},
   "source": [
    "## Import modules from BKit"
   ]
  },
  {
   "cell_type": "code",
   "execution_count": 21,
   "id": "4c3b0cc6",
   "metadata": {},
   "outputs": [],
   "source": [
    "from BKit.Utils import SplitEvenOdd, PlotSelected, pathpatch_2d_to_3d\n",
    "from BKit.ConstructMilestones3D import SortFrames, rotation_matrix\n"
   ]
  },
  {
   "cell_type": "markdown",
   "id": "b3809036",
   "metadata": {},
   "source": [
    "## Set model parameters"
   ]
  },
  {
   "cell_type": "code",
   "execution_count": 15,
   "id": "a513a040",
   "metadata": {},
   "outputs": [],
   "source": [
    "ml_length = 0.8    # distance between milestones\n",
    "dr = 2.0           # milestone radius (disk radius)\n",
    "dim = 3            # pc dimention    \n",
    "yz_pad = 8\n",
    "dz = 0.2"
   ]
  },
  {
   "cell_type": "markdown",
   "id": "543d3d8a",
   "metadata": {},
   "source": [
    "## Set  path & load previoulsly saved data"
   ]
  },
  {
   "cell_type": "code",
   "execution_count": 37,
   "id": "21765cb5",
   "metadata": {},
   "outputs": [],
   "source": [
    "DIR_SAVE = '../output'\n",
    "complex_name = 'Cyc_asp'\n",
    "inp = np.load(DIR_SAVE + '/MlPosNorms.npy')\n",
    "dat = np.load('/home/talant/Projects/UCRiver/Milestoning/ForRuben/output/PCA' + '/PCA.npy')\n",
    "pathAll = inp[:,0:3];  normalsAll = inp[:,3:6]"
   ]
  },
  {
   "cell_type": "code",
   "execution_count": 17,
   "id": "fe633c43",
   "metadata": {},
   "outputs": [],
   "source": [
    "diskID, midID = SplitEvenOdd(N=pathAll.shape[0])\n",
    "pathMid = pathAll[midID];       pathP = pathAll[diskID]    \n",
    "normalsMid = normalsAll[midID]; normals = normalsAll[diskID]       \n",
    "\n",
    "n_cells = normalsMid.shape[0]\n",
    "n_disks = normals.shape[0]"
   ]
  },
  {
   "cell_type": "code",
   "execution_count": 18,
   "id": "41a14c56",
   "metadata": {},
   "outputs": [],
   "source": [
    "SortF = SortFrames(dat,dr,dz)\n",
    "datMid, CellIndx = SortF.SortAllPoints(normals, normalsMid, pathP, pathMid, SortMethod='middle')"
   ]
  },
  {
   "cell_type": "code",
   "execution_count": 19,
   "id": "7c42ac30",
   "metadata": {
    "scrolled": true
   },
   "outputs": [
    {
     "name": "stdout",
     "output_type": "stream",
     "text": [
      "total frames 8620000\n",
      "Number of selected points 2500699\n",
      "Number of Cells  61\n",
      "Number of Disks  62\n"
     ]
    }
   ],
   "source": [
    "nf = dat.shape[0] \n",
    "n_sel = datMid.shape[0]\n",
    "print('total frames',nf)\n",
    "print('Number of selected points', n_sel)\n",
    "print('Number of Cells ', n_cells)\n",
    "print('Number of Disks ', n_disks)"
   ]
  },
  {
   "cell_type": "code",
   "execution_count": 61,
   "id": "12e8b795",
   "metadata": {},
   "outputs": [],
   "source": [
    "#tmp=datMid[(datMid[:,3] > 0) & (datMid[:,3] < 18)]\n",
    "#n_sel = tmp.shape[0]\n",
    "\n",
    "rand_sel = np.random.randint(0, n_sel, 50000)\n",
    "datPlot = datMid[rand_sel,:]"
   ]
  },
  {
   "cell_type": "code",
   "execution_count": null,
   "id": "34af8c65",
   "metadata": {},
   "outputs": [],
   "source": []
  },
  {
   "cell_type": "markdown",
   "id": "623b6853",
   "metadata": {},
   "source": [
    "## Label all States & Visualize Subset and Save"
   ]
  },
  {
   "cell_type": "code",
   "execution_count": null,
   "id": "b3183d41",
   "metadata": {},
   "outputs": [],
   "source": []
  },
  {
   "cell_type": "code",
   "execution_count": 68,
   "id": "02554129",
   "metadata": {
    "scrolled": false
   },
   "outputs": [
    {
     "data": {
      "application/vnd.jupyter.widget-view+json": {
       "model_id": "9f1f1ad2fd3b46379f2a7c6b0ec19033",
       "version_major": 2,
       "version_minor": 0
      },
      "text/plain": [
       "Canvas(toolbar=Toolbar(toolitems=[('Home', 'Reset original view', 'home', 'home'), ('Back', 'Back to previous …"
      ]
     },
     "metadata": {},
     "output_type": "display_data"
    }
   ],
   "source": [
    "%matplotlib widget\n",
    "plotOrig = True\n",
    "dat_sel = datPlot\n",
    "fs=9\n",
    "\n",
    "#n_disks = normals.shape[0]\n",
    "#fig = plt.figure(figsize = [4.2, 3.4])\n",
    "fig = plt.figure(figsize = [7.2, 5.4])\n",
    "ax = plt.axes(projection='3d')\n",
    "  \n",
    "#plot path poits\n",
    "ax.plot3D(pathP[:,0], pathP[:,1], pathP[:,2], c='black', marker='o', markersize=2, alpha=0.8)\n",
    "ax.set_xlabel('PC1', fontsize=fs)\n",
    "ax.set_ylabel('PC2',fontsize=fs)\n",
    "ax.set_zlabel('PC3',fontsize=fs)\n",
    "\n",
    "#plotting disks\n",
    "for i in range(n_disks):\n",
    "    c = Circle((0,0), dr, facecolor='grey', alpha=0.4)\n",
    "    ax.add_patch(c)\n",
    "    pathpatch_2d_to_3d(c, pathP[i], normal = normals[i])\n",
    "    #ax.text(pathP[i,0] +0.1*dr, pathP[i,1] +0.1*dr ,\n",
    "    #        pathP[i,2] +0.1*dr , str(i), 'x', size=fs)\n",
    "    #ax.text(pathP[i,0] - 1.2*dr, pathP[i,1] + 0.4*dr ,\n",
    "    #        pathP[i,2] - 2.3*dr, str(i), 'x', size=fs)\n",
    "\n",
    "#plot selected points\n",
    "p = ax.scatter3D(dat_sel[:,0], dat_sel[:,1], dat_sel[:,2], c = dat_sel[:,3],\n",
    "                 alpha=.40, s = 2., cmap = 'prism')\n",
    "    \n",
    "#p = ax.scatter3D(datOut[:,0], datOut[:,1], datOut[:,2], c = 'grey', s=2., alpha=0.4)\n",
    "    \n",
    "x_min, y_min, z_min = pathP.min(axis=0) \n",
    "x_max, y_max, z_max = pathP.max(axis=0)\n",
    "ax.set_xlim3d(x_min, x_max)\n",
    "ax.set_ylim3d(y_min - yz_pad, y_max + yz_pad)\n",
    "ax.set_zlim3d(z_min - yz_pad, z_max + yz_pad)\n",
    "ax.xaxis.pane.fill = False\n",
    "ax.yaxis.pane.fill = False\n",
    "ax.zaxis.pane.fill = False\n",
    "ax.xaxis.pane.set_edgecolor('w')\n",
    "ax.yaxis.pane.set_edgecolor('w')\n",
    "ax.zaxis.pane.set_edgecolor('w')\n",
    "ax.set_xlim3d(-5,25); ax.set_ylim3d(-5,20); ax.set_zlim3d(-10,0)\n",
    "#ax.set_axis_off()\n",
    "fig.tight_layout()\n",
    "plt.savefig(DIR_SAVE + complex_name + 'states.png', dpi=600)\n",
    "plt.show()    "
   ]
  },
  {
   "cell_type": "code",
   "execution_count": 55,
   "id": "4cfdc74c",
   "metadata": {},
   "outputs": [],
   "source": [
    "#ini=20000*100; fin=ini + 999"
   ]
  },
  {
   "cell_type": "code",
   "execution_count": 56,
   "id": "0f4bcc9b",
   "metadata": {},
   "outputs": [],
   "source": [
    "#tmp_dat = dat[ini: fin]"
   ]
  },
  {
   "cell_type": "code",
   "execution_count": null,
   "id": "b08cda01",
   "metadata": {},
   "outputs": [],
   "source": []
  },
  {
   "cell_type": "code",
   "execution_count": null,
   "id": "bdd48bdc",
   "metadata": {},
   "outputs": [],
   "source": []
  },
  {
   "cell_type": "code",
   "execution_count": 62,
   "id": "d62445e9",
   "metadata": {},
   "outputs": [
    {
     "data": {
      "application/vnd.jupyter.widget-view+json": {
       "model_id": "bafedc0e9f3c4a72b7cfe0f45dcc5e00",
       "version_major": 2,
       "version_minor": 0
      },
      "text/plain": [
       "Canvas(toolbar=Toolbar(toolitems=[('Home', 'Reset original view', 'home', 'home'), ('Back', 'Back to previous …"
      ]
     },
     "metadata": {},
     "output_type": "display_data"
    }
   ],
   "source": [
    "%matplotlib widget\n",
    "plotOrig = True\n",
    "dat_sel = datPlot\n",
    "fs = 9\n",
    "\n",
    "#n_disks = normals.shape[0]\n",
    "fig = plt.figure(figsize = [6.2, 4.4])\n",
    "ax = plt.axes(projection='3d')\n",
    "  \n",
    "#plot path poits\n",
    "ax.plot3D(pathP[:,0], pathP[:,1], pathP[:,2], c='black', marker='o', markersize=2, alpha=0.8)\n",
    "#ax.plot3D(tmp_dat[:,0], tmp_dat[:,1], tmp_dat[:,2], c='black')#, marker='-', markersize=2, alpha=1.0)\n",
    "ax.set_xlabel('PC1', fontsize=fs)\n",
    "ax.set_ylabel('PC2',fontsize=fs)\n",
    "ax.set_zlabel('PC3',fontsize=fs)\n",
    "\n",
    "#plotting disks\n",
    "for i in range(n_disks):\n",
    "    c = Circle((0,0), dr, facecolor='grey', alpha=0.4)\n",
    "    ax.add_patch(c)\n",
    "    pathpatch_2d_to_3d(c, pathP[i], normal = normals[i])\n",
    "    ax.text(pathP[i,0] +0.1*dr, pathP[i,1] +0.1*dr ,\n",
    "            pathP[i,2] +0.1*dr , str(i), 'x', size=fs)\n",
    "    #ax.text(pathP[i,0] - 1.2*dr, pathP[i,1] + 0.4*dr ,\n",
    "    #        pathP[i,2] - 2.3*dr, str(i), 'x', size=fs)\n",
    "\n",
    "#plot selected points\n",
    "p = ax.scatter3D(dat_sel[:,0], dat_sel[:,1], dat_sel[:,2], c = dat_sel[:,3],\n",
    "                 alpha=.10, s = 2., cmap = 'prism')\n",
    "    \n",
    "#p = ax.scatter3D(datOut[:,0], datOut[:,1], datOut[:,2], c = 'grey', s=2., alpha=0.4)\n",
    "    \n",
    "x_min, y_min, z_min = pathP.min(axis=0) \n",
    "x_max, y_max, z_max = pathP.max(axis=0)\n",
    "ax.set_xlim3d(x_min, x_max)\n",
    "ax.set_ylim3d(y_min - yz_pad, y_max + yz_pad)\n",
    "ax.set_zlim3d(z_min - yz_pad, z_max + yz_pad)\n",
    "ax.xaxis.pane.fill = False\n",
    "ax.yaxis.pane.fill = False\n",
    "ax.zaxis.pane.fill = False\n",
    "ax.xaxis.pane.set_edgecolor('w')\n",
    "ax.yaxis.pane.set_edgecolor('w')\n",
    "ax.zaxis.pane.set_edgecolor('w')\n",
    "#ax.set_xlim3d(0,160); ax.set_ylim3d(-50,70); ax.set_zlim3d(-40,60)\n",
    "ax.set_axis_off()\n",
    "fig.tight_layout()\n",
    "#plt.savefig(DIR_SAVE + complex_name + 'states.png', dpi=600)\n",
    "plt.show()    "
   ]
  },
  {
   "cell_type": "code",
   "execution_count": 12,
   "id": "5970248e",
   "metadata": {},
   "outputs": [],
   "source": [
    "#%matplotlib widget\n",
    "#PlotSelected(datPlot, dr, pathP, normals, yz_pad, figsize=[8,6])\n",
    "\n"
   ]
  },
  {
   "cell_type": "code",
   "execution_count": 8,
   "id": "8e67ef07",
   "metadata": {},
   "outputs": [
    {
     "name": "stdout",
     "output_type": "stream",
     "text": [
      "writing outputs to ../output\n"
     ]
    }
   ],
   "source": [
    "print(\"writing outputs to \" + DIR_SAVE)\n",
    "np.save(DIR_SAVE + '/CellIndx.npy', CellIndx)"
   ]
  },
  {
   "cell_type": "code",
   "execution_count": null,
   "id": "14a5fea6",
   "metadata": {},
   "outputs": [],
   "source": []
  }
 ],
 "metadata": {
  "kernelspec": {
   "display_name": "Python 3 (ipykernel)",
   "language": "python",
   "name": "python3"
  },
  "language_info": {
   "codemirror_mode": {
    "name": "ipython",
    "version": 3
   },
   "file_extension": ".py",
   "mimetype": "text/x-python",
   "name": "python",
   "nbconvert_exporter": "python",
   "pygments_lexer": "ipython3",
   "version": "3.10.5"
  }
 },
 "nbformat": 4,
 "nbformat_minor": 5
}
