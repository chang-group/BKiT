version https://git-lfs.github.com/spec/v1
oid sha256:e4cdd4a4b4fd00c3ea743e52ed16a557f63a1f953b4ef31a2f835f6512a9fa22
size 963805
