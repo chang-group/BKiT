version https://git-lfs.github.com/spec/v1
oid sha256:d127ce0f6c4b5ca9572294a38abb60b4373ac6dbf14273fead0fb7dcf3c49225
size 378944
