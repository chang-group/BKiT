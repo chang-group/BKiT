{
 "cells": [
  {
   "cell_type": "markdown",
   "id": "e8b6de15",
   "metadata": {},
   "source": [
    "# Notebook1 Demo"
   ]
  },
  {
   "cell_type": "markdown",
   "id": "3af4f7b3",
   "metadata": {},
   "source": [
    "## Import required libraries"
   ]
  },
  {
   "cell_type": "code",
   "execution_count": 1,
   "id": "d4efd2d9",
   "metadata": {},
   "outputs": [],
   "source": [
    "# import all libraries and modules\n",
    "import sys\n",
    "import os\n",
    "import pytraj as pt\n",
    "from sklearn.decomposition import PCA\n",
    "import numpy as np\n",
    "import scipy\n",
    "from scipy import spatial\n",
    "\n",
    "# for plotting\n",
    "import matplotlib.pyplot as plt\n",
    "from mpl_toolkits.mplot3d import proj3d\n",
    "from matplotlib.patches import Circle\n",
    "from mpl_toolkits.mplot3d import art3d\n",
    "\n",
    "import warnings\n",
    "warnings.filterwarnings(\"ignore\")"
   ]
  },
  {
   "cell_type": "markdown",
   "id": "3ac17644",
   "metadata": {},
   "source": [
    "## Import modules from BKit"
   ]
  },
  {
   "cell_type": "code",
   "execution_count": 2,
   "id": "4c3b0cc6",
   "metadata": {},
   "outputs": [],
   "source": [
    "from BKit.SmoothPath import BuildSmoothMeanPath\n",
    "from BKit.Utils import LoadTrajs, SplitEvenOdd, PlotSelected, pathpatch_2d_to_3d\n",
    "from BKit.InterpolateCurve import InterpolatePath\n",
    "from BKit.ConstructMilestones3D import ConstructMilestones3D\n",
    "from BKit.ConstructMilestones3D import SortFrames, rotation_matrix"
   ]
  },
  {
   "cell_type": "markdown",
   "id": "b3809036",
   "metadata": {},
   "source": [
    "## Set model parameters"
   ]
  },
  {
   "cell_type": "code",
   "execution_count": 3,
   "id": "d539deb1",
   "metadata": {},
   "outputs": [],
   "source": [
    "dim = 3            # pc dimention    \n",
    "w_size = 50        # rolling ave window size, which is used as reference path\n",
    "stride = w_size//5\n",
    "ml_length = .80    # distance between milestones\n",
    "n_iter = 8000      # number of iterations for ML disk normal optimization\n",
    "thresh = -0.27     # threshold to remove points with corners \n",
    "dr = 2.\n",
    "dz = 0.4\n",
    "yz_pad = 8         # yz pad length to avoid disk distortion upon visualization \n",
    "\n",
    "DIR_SAVE = '../output/'\n",
    "FIG_SAVE = '../figs/'\n",
    "complex_name = 'CycAsp'"
   ]
  },
  {
   "cell_type": "markdown",
   "id": "543d3d8a",
   "metadata": {},
   "source": [
    "## Set  path to all input files & load trajectories\n",
    "\n"
   ]
  },
  {
   "cell_type": "code",
   "execution_count": 4,
   "id": "73ba6644",
   "metadata": {},
   "outputs": [
    {
     "name": "stdout",
     "output_type": "stream",
     "text": [
      "Total number of residues --  8\n",
      "Total number of atoms --  168\n",
      "Total number of frames --  430\n",
      "Loading metadynamics trajectory by chunk... \n"
     ]
    },
    {
     "name": "stderr",
     "output_type": "stream",
     "text": [
      "100%|█████████████████████████████████████████████████████████████████| 3/3 [00:00<00:00, 312.47it/s]"
     ]
    },
    {
     "name": "stdout",
     "output_type": "stream",
     "text": [
      "Total number of selected atoms --  34\n"
     ]
    },
    {
     "name": "stderr",
     "output_type": "stream",
     "text": [
      "\n"
     ]
    }
   ],
   "source": [
    "path = '/home/talant/Projects/UCRiver/Milestoning/ForRuben/data/'\n",
    "TOP = path + 'cd_asp_protein.prmtop'\n",
    "\n",
    "TRAJ = path + 'Representative/' + 'short_be16_pca.dcd'\n",
    "pdb_path = path + 'cd_asp_reference.pdb'\n",
    "\n",
    "mask_align = \"(:1-7)&(@O1)\" \n",
    "mask_selec = ['@O1,C1,C2,:8','!@H*']\n",
    "\n",
    "new_frames, refframe, traj= LoadTrajs(traj_path = TRAJ,\n",
    "                                    top_path = TOP,\n",
    "                                    refPDB_path = pdb_path,\n",
    "                                    mask_selec = mask_selec,\n",
    "                                    mask_align = mask_align)"
   ]
  },
  {
   "cell_type": "markdown",
   "id": "357c93f9",
   "metadata": {},
   "source": [
    "## Perform PCA"
   ]
  },
  {
   "cell_type": "code",
   "execution_count": 5,
   "id": "986ee9a2",
   "metadata": {},
   "outputs": [
    {
     "name": "stdout",
     "output_type": "stream",
     "text": [
      "Coverage 83.8\n"
     ]
    }
   ],
   "source": [
    "pca = PCA(n_components=dim)\n",
    "PCs = pca.fit_transform(new_frames)\n",
    "  \n",
    "# obtain eigvals and eigvecs\n",
    "eigvals = pca.explained_variance_ratio_\n",
    "eigvecs = pca.components_.T\n",
    "  \n",
    "dat = np.concatenate((np.dot(new_frames, eigvecs[:,0]).reshape(len(new_frames),1),\n",
    "                      np.dot(new_frames, eigvecs[:,1]).reshape(len(new_frames),1),\n",
    "                      np.dot(new_frames, eigvecs[:,2]).reshape(len(new_frames),1)),\n",
    "                      axis=1)\n",
    "print('Coverage',round(sum(pca.explained_variance_ratio_)*100,1))"
   ]
  },
  {
   "cell_type": "markdown",
   "id": "161a448c",
   "metadata": {},
   "source": [
    "## Visualize PCA Space"
   ]
  },
  {
   "cell_type": "code",
   "execution_count": 6,
   "id": "3f6858e8",
   "metadata": {},
   "outputs": [
    {
     "data": {
      "application/vnd.jupyter.widget-view+json": {
       "model_id": "b85bde7f67c74ba3af3c578a66da0e33",
       "version_major": 2,
       "version_minor": 0
      },
      "text/plain": [
       "Canvas(toolbar=Toolbar(toolitems=[('Home', 'Reset original view', 'home', 'home'), ('Back', 'Back to previous …"
      ]
     },
     "metadata": {},
     "output_type": "display_data"
    }
   ],
   "source": [
    "%matplotlib widget\n",
    "plotOrig = True\n",
    "fig = plt.figure(figsize = [8, 6])\n",
    "ax = plt.axes(projection='3d')\n",
    "p = ax.scatter3D(dat[:,0], dat[:,1], dat[:,2], c=range(int(len(dat))), alpha=0.4)\n",
    "fig.colorbar(p, ax=ax)\n",
    "ax.set_xlabel('PC1'); ax.set_ylabel('PC2'); ax.set_zlabel('PC3')\n",
    "fig.tight_layout()\n",
    "#plt.savefig(FIG_SAVE + complex_name + '3D_PCA.png', dpi=600)\n",
    "plt.show()"
   ]
  },
  {
   "cell_type": "markdown",
   "id": "ea4c670e",
   "metadata": {},
   "source": [
    "## Construct 3D Path"
   ]
  },
  {
   "cell_type": "code",
   "execution_count": 7,
   "id": "2953a977",
   "metadata": {},
   "outputs": [],
   "source": [
    "#this constructs 3D path\n",
    "SReactPath = BuildSmoothMeanPath(dat, w_size=w_size, thresh=thresh, stride=stride)    \n",
    "meanP = SReactPath.GetPath()\n",
    "\n",
    "# crude path to compare\n",
    "CrudePath = SReactPath.roll_ave(w_size=w_size//2, stride=stride//2)\n",
    "kd_path = SReactPath.GetPathKD(rad=dr, w_size=w_size, stride=stride)\n",
    "\n",
    "#interpolate  points  \n",
    "InterPath = InterpolatePath(meanP, pair_dist = ml_length , dim=dim, kind='linear')\n",
    "InterPathKD = InterpolatePath(kd_path, pair_dist = ml_length , dim=dim, kind='linear')"
   ]
  },
  {
   "cell_type": "markdown",
   "id": "ae6e893f",
   "metadata": {},
   "source": [
    "## Visualize crude path vs constructed smooth path"
   ]
  },
  {
   "cell_type": "code",
   "execution_count": 8,
   "id": "c46653b2",
   "metadata": {},
   "outputs": [
    {
     "data": {
      "application/vnd.jupyter.widget-view+json": {
       "model_id": "de4a271a8d7e43b9a062e9d7bfac56ac",
       "version_major": 2,
       "version_minor": 0
      },
      "text/plain": [
       "Canvas(toolbar=Toolbar(toolitems=[('Home', 'Reset original view', 'home', 'home'), ('Back', 'Back to previous …"
      ]
     },
     "metadata": {},
     "output_type": "display_data"
    }
   ],
   "source": [
    "%matplotlib widget\n",
    "plotOrig = True\n",
    "fs=9\n",
    "fig = plt.figure(figsize = [7.2, 5.4])\n",
    "ax = plt.axes(projection='3d')\n",
    "\n",
    "if plotOrig:\n",
    "    p = ax.scatter3D(dat[:,0], dat[:,1], dat[:,2], c=range(int(len(dat))), alpha=0.3)\n",
    "    #fig.colorbar(p, ax=ax)\n",
    "\n",
    "ax.plot3D(CrudePath[:,0], CrudePath[:,1], CrudePath[:,2], 'orange', marker='o', markersize=2)\n",
    "ax.plot3D(InterPath[:,0], InterPath[:,1], InterPath[:,2], 'black', ls='-', marker='o', markersize=2)\n",
    "ax.plot3D(InterPathKD[:,0], InterPathKD[:,1], InterPathKD[:,2], 'black', ls='-', marker='o', markersize=2)\n",
    "\n",
    "ax.set_xlabel('PC1', fontsize=fs)\n",
    "ax.set_ylabel('PC2',fontsize=fs)\n",
    "ax.set_zlabel('PC3',fontsize=fs)\n",
    "ax.set_xlim3d(-5,25); ax.set_ylim3d(-5,20); ax.set_zlim3d(-10,0)\n",
    "plt.legend([\"Crude mean path\", \"Smooth mean path\", 'Smooth kd-tree path'], loc=[0.04,0.75], fontsize=fs)\n",
    "ax.xaxis.pane.fill = False\n",
    "ax.yaxis.pane.fill = False\n",
    "ax.zaxis.pane.fill = False\n",
    "ax.xaxis.pane.set_edgecolor('w')\n",
    "ax.yaxis.pane.set_edgecolor('w')\n",
    "ax.zaxis.pane.set_edgecolor('w')\n",
    "#ax.xaxis.set_tick_params(labelsize=fs-1)\n",
    "#ax.yaxis.set_tick_params(labelsize=fs-1)\n",
    "#ax.zaxis.set_tick_params(labelsize=fs-1)\n",
    "#ax.set_axis_off()\n",
    "\n",
    "fig.tight_layout()\n",
    "#plt.savefig(FIG_SAVE + complex_name + '3D_path.png', dpi=600)\n",
    "plt.show()"
   ]
  },
  {
   "cell_type": "markdown",
   "id": "0d3ad68d",
   "metadata": {},
   "source": [
    "## Now lets break into states with barriers\n",
    "\n",
    "1. We use half length of ml\n"
   ]
  },
  {
   "cell_type": "code",
   "execution_count": 9,
   "id": "840f5041",
   "metadata": {},
   "outputs": [],
   "source": [
    "##################################################################################\n",
    "# apply with equidistant partition of path using half ml_length\n",
    "pathAll = InterpolatePath(meanP, pair_dist=ml_length/2, dim=dim, kind='linear')\n",
    "#pathAll = InterpolatePath(kd_path, pair_dist=ml_length/2, dim=dim, kind='linear')\n",
    "#pathAll = pathAll[10:-1] # drop few initial points\n",
    "\n",
    "#split into barriers and states\n",
    "diskID, midID = SplitEvenOdd(N=pathAll.shape[0])\n",
    "pathMid = pathAll[midID]\n",
    "pathP = pathAll[diskID]    "
   ]
  },
  {
   "cell_type": "code",
   "execution_count": 10,
   "id": "5b0978a9",
   "metadata": {},
   "outputs": [],
   "source": [
    "# construct 3D milestones (disks)\n",
    "ConsMile = ConstructMilestones3D(pathAll)\n",
    "vecs = ConsMile.GetVectors()\n",
    "normals = vecs[diskID] "
   ]
  },
  {
   "cell_type": "code",
   "execution_count": 11,
   "id": "ebafc9d1",
   "metadata": {},
   "outputs": [],
   "source": [
    "normalsAll = ConsMile.OptVectors(vecs, n_iter=n_iter, lr=0.01)\n",
    "#split to state and barriers\n",
    "normals = normalsAll[diskID]       # barrier disk vectors\n",
    "normalsMid = normalsAll[midID]     # mid disk vectors"
   ]
  },
  {
   "cell_type": "code",
   "execution_count": 12,
   "id": "7f69c034",
   "metadata": {
    "scrolled": true
   },
   "outputs": [
    {
     "name": "stdout",
     "output_type": "stream",
     "text": [
      "Number of disks --  62\n",
      "Number of cells --  61\n"
     ]
    }
   ],
   "source": [
    "n_disks = normals.shape[0]        # also number of barriers\n",
    "n_cells = normalsMid.shape[0]     # also number of states\n",
    "print('Number of disks -- ', n_disks)\n",
    "print('Number of cells -- ', n_cells)"
   ]
  },
  {
   "cell_type": "markdown",
   "id": "012cc73e",
   "metadata": {},
   "source": [
    "## Extract points on disk surface"
   ]
  },
  {
   "cell_type": "code",
   "execution_count": 13,
   "id": "5c0887a0",
   "metadata": {},
   "outputs": [],
   "source": [
    "SortF = SortFrames(dat,dr,dz)\n",
    "datDS, _ = SortF.SortAllPoints(normals, normalsMid, pathP, pathMid, SortMethod='surface')"
   ]
  },
  {
   "cell_type": "code",
   "execution_count": 14,
   "id": "51087b8e",
   "metadata": {},
   "outputs": [],
   "source": [
    "selected_frames = np.array(datDS[:,4], dtype=int)\n",
    "datOut = dat[~selected_frames]"
   ]
  },
  {
   "cell_type": "code",
   "execution_count": null,
   "id": "ead63d18",
   "metadata": {},
   "outputs": [],
   "source": []
  },
  {
   "cell_type": "code",
   "execution_count": 15,
   "id": "7e2ef781",
   "metadata": {
    "scrolled": false
   },
   "outputs": [
    {
     "data": {
      "application/vnd.jupyter.widget-view+json": {
       "model_id": "6e6ec7027d804d47b4fef00a2068c2dc",
       "version_major": 2,
       "version_minor": 0
      },
      "text/plain": [
       "Canvas(toolbar=Toolbar(toolitems=[('Home', 'Reset original view', 'home', 'home'), ('Back', 'Back to previous …"
      ]
     },
     "metadata": {},
     "output_type": "display_data"
    }
   ],
   "source": [
    "%matplotlib widget\n",
    "plotOrig = True\n",
    "dat_sel = datDS\n",
    "#fig = plt.figure(figsize = [4.2, 3.4])\n",
    "fig = plt.figure(figsize = [8.2, 6.4])\n",
    "\n",
    "ax = plt.axes(projection='3d')\n",
    "fs=9   \n",
    "#plot path poits\n",
    "ax.plot3D(pathP[:,0], pathP[:,1], pathP[:,2], c='black', marker='o', markersize=2, alpha=0.8)\n",
    "ax.set_xlabel('PC1', fontsize=fs)\n",
    "ax.set_ylabel('PC2',fontsize=fs)\n",
    "ax.set_zlabel('PC3',fontsize=fs)\n",
    "\n",
    "#plotting disks\n",
    "for i in range(n_disks):\n",
    "    c = Circle((0,0), dr, facecolor='grey', alpha=0.4)\n",
    "    ax.add_patch(c)\n",
    "    pathpatch_2d_to_3d(c, pathP[i], normal = normals[i])\n",
    "    #ax.text(pathP[i,0], pathP[i,1] + dr, pathP[i,2] + dr, str(i), 'x', size=9)\n",
    "\n",
    "#plot selected points\n",
    "p = ax.scatter3D(dat_sel[:,0], dat_sel[:,1], dat_sel[:,2], c = dat_sel[:,3],\n",
    "                 alpha=1.0, s = 2., cmap = 'prism')\n",
    "    \n",
    "#p = ax.scatter3D(datOut[:,0], datOut[:,1], datOut[:,2], c = 'grey')\n",
    "    \n",
    "x_min, y_min, z_min = pathP.min(axis=0) \n",
    "x_max, y_max, z_max = pathP.max(axis=0)\n",
    "ax.set_xlim3d(x_min, x_max)\n",
    "ax.set_ylim3d(y_min - yz_pad, y_max + yz_pad)\n",
    "ax.set_zlim3d(z_min - yz_pad, z_max + yz_pad)\n",
    "#ax.set_xlim3d(0,160); ax.set_ylim3d(-50,70); ax.set_zlim3d(-40,60)\n",
    "ax.xaxis.pane.fill = False\n",
    "ax.yaxis.pane.fill = False\n",
    "ax.zaxis.pane.fill = False\n",
    "ax.xaxis.pane.set_edgecolor('w')\n",
    "ax.yaxis.pane.set_edgecolor('w')\n",
    "ax.zaxis.pane.set_edgecolor('w')\n",
    "ax.xaxis.set_tick_params(labelsize=fs-1)\n",
    "ax.yaxis.set_tick_params(labelsize=fs-1)\n",
    "ax.zaxis.set_tick_params(labelsize=fs-1)\n",
    "fig.tight_layout()\n",
    "plt.savefig(FIG_SAVE + complex_name + 'FramesOnDisk.pdf')\n",
    "plt.show()    \n"
   ]
  },
  {
   "cell_type": "markdown",
   "id": "cc70282c",
   "metadata": {},
   "source": [
    "### Select points between disks\n",
    "1. This method is used to assign state index to each point and to carry kinetics calculation later"
   ]
  },
  {
   "cell_type": "code",
   "execution_count": 17,
   "id": "8f99ef22",
   "metadata": {},
   "outputs": [],
   "source": [
    "datMid, _ = SortF.SortAllPoints(normals, normalsMid, pathP, pathMid, SortMethod='middle')"
   ]
  },
  {
   "cell_type": "code",
   "execution_count": 18,
   "id": "9e6141bc",
   "metadata": {},
   "outputs": [
    {
     "data": {
      "application/vnd.jupyter.widget-view+json": {
       "model_id": "10c46e05ea9d449a9e66adf1e8cdcb12",
       "version_major": 2,
       "version_minor": 0
      },
      "text/plain": [
       "Canvas(toolbar=Toolbar(toolitems=[('Home', 'Reset original view', 'home', 'home'), ('Back', 'Back to previous …"
      ]
     },
     "metadata": {},
     "output_type": "display_data"
    }
   ],
   "source": [
    "%matplotlib widget\n",
    "plotOrig = True\n",
    "dat_sel = datMid\n",
    "#n_disks = normals.shape[0]\n",
    "#fig = plt.figure(figsize = [4.2, 3.4])\n",
    "fig = plt.figure(figsize = [6.2, 4.4])\n",
    "ax = plt.axes(projection='3d')\n",
    "  \n",
    "#plot path poits\n",
    "ax.plot3D(pathP[:,0], pathP[:,1], pathP[:,2], c='black', marker='o', markersize=2, alpha=0.8)\n",
    "ax.set_xlabel('PC1', fontsize=fs)\n",
    "ax.set_ylabel('PC2',fontsize=fs)\n",
    "ax.set_zlabel('PC3',fontsize=fs)\n",
    "\n",
    "#plotting disks\n",
    "for i in range(n_disks):\n",
    "    c = Circle((0,0), dr, facecolor='grey', alpha=0.4)\n",
    "    ax.add_patch(c)\n",
    "    pathpatch_2d_to_3d(c, pathP[i], normal = normals[i])\n",
    "    ax.text(pathP[i,0] +0.1*dr, pathP[i,1] +0.1*dr ,\n",
    "            pathP[i,2] +0.1*dr , str(i), 'x', size=fs)\n",
    "    #ax.text(pathP[i,0] - 1.2*dr, pathP[i,1] + 0.4*dr ,\n",
    "    #        pathP[i,2] - 2.3*dr, str(i), 'x', size=fs)\n",
    "\n",
    "#plot selected points\n",
    "p = ax.scatter3D(dat_sel[:,0], dat_sel[:,1], dat_sel[:,2], c = dat_sel[:,3],\n",
    "                 alpha=1.0, s = 2., cmap = 'prism')\n",
    "    \n",
    "p = ax.scatter3D(datOut[:,0], datOut[:,1], datOut[:,2], c = 'grey', s=2., alpha=0.4)\n",
    "    \n",
    "x_min, y_min, z_min = pathP.min(axis=0) \n",
    "x_max, y_max, z_max = pathP.max(axis=0)\n",
    "ax.set_xlim3d(x_min, x_max)\n",
    "ax.set_ylim3d(y_min - yz_pad, y_max + yz_pad)\n",
    "ax.set_zlim3d(z_min - yz_pad, z_max + yz_pad)\n",
    "#ax.xaxis.pane.fill = False\n",
    "#ax.yaxis.pane.fill = False\n",
    "#ax.zaxis.pane.fill = False\n",
    "#ax.xaxis.pane.set_edgecolor('w')\n",
    "#ax.yaxis.pane.set_edgecolor('w')\n",
    "#ax.zaxis.pane.set_edgecolor('w')\n",
    "#ax.set_xlim3d(0,160); ax.set_ylim3d(-50,70); ax.set_zlim3d(-40,60)\n",
    "ax.set_axis_off()\n",
    "fig.tight_layout()\n",
    "\n",
    "plt.show()    \n"
   ]
  },
  {
   "cell_type": "code",
   "execution_count": null,
   "id": "63e8fa0e",
   "metadata": {},
   "outputs": [],
   "source": []
  },
  {
   "cell_type": "code",
   "execution_count": null,
   "id": "7a9c9566",
   "metadata": {},
   "outputs": [],
   "source": []
  },
  {
   "cell_type": "code",
   "execution_count": 17,
   "id": "169f37ef",
   "metadata": {},
   "outputs": [
    {
     "name": "stdout",
     "output_type": "stream",
     "text": [
      "writing outputs to ../output/\n"
     ]
    }
   ],
   "source": [
    "print(\"writing outputs to \" + DIR_SAVE)\n",
    "np.save(DIR_SAVE + '/MlPosNorms.npy', np.column_stack([pathAll, normalsAll]))\n",
    "np.save(DIR_SAVE + '/EigVecs.npy', eigvecs)\n",
    "np.save(DIR_SAVE + '/RefFrame.npy', refframe)"
   ]
  },
  {
   "cell_type": "markdown",
   "id": "24800f29",
   "metadata": {},
   "source": [
    "### Choose how to select points to initiate kinetics runs!"
   ]
  },
  {
   "cell_type": "code",
   "execution_count": 19,
   "id": "68561749",
   "metadata": {},
   "outputs": [
    {
     "data": {
      "text/plain": [
       "(268,)"
      ]
     },
     "execution_count": 19,
     "metadata": {},
     "output_type": "execute_result"
    }
   ],
   "source": [
    "SortMethod = 'middle' # 'surface'\n",
    "if SortMethod == 'middle':\n",
    "    sel_frames = datMid[:,4]\n",
    "elif SortMethod == 'surface':\n",
    "    sel_frames = datDS[:,4]\n",
    "else: \n",
    "    print('Make your own method :)')\n",
    "\n",
    "sel_frames.shape"
   ]
  },
  {
   "cell_type": "markdown",
   "id": "06912199",
   "metadata": {},
   "source": [
    "## Save selected frames as .dcd"
   ]
  },
  {
   "cell_type": "code",
   "execution_count": 20,
   "id": "d1c9c419",
   "metadata": {},
   "outputs": [
    {
     "name": "stderr",
     "output_type": "stream",
     "text": [
      "Error: File 'output/SelectedFrames4ShortMD.dcd': No such file or directory\n",
      "Error: Setting up output trajectory 'output/SelectedFrames4ShortMD.dcd'\n"
     ]
    }
   ],
   "source": [
    "#output trajs\n",
    "pt.write_traj('output/SelectedFrames4ShortMD.dcd', traj[sel_frames], overwrite=True)"
   ]
  },
  {
   "cell_type": "markdown",
   "id": "6a3ea0e1",
   "metadata": {},
   "source": [
    "## Select frames on disks and save as .dcd"
   ]
  },
  {
   "cell_type": "code",
   "execution_count": 18,
   "id": "1f1277bc",
   "metadata": {},
   "outputs": [
    {
     "name": "stdout",
     "output_type": "stream",
     "text": [
      "Empty Disk ID 17\n",
      "Empty Disk ID 31\n",
      "Empty Disk ID 32\n",
      "Empty Disk ID 33\n",
      "Empty Disk ID 38\n",
      "Empty Disk ID 39\n",
      "Empty Disk ID 45\n",
      "Empty Disk ID 47\n",
      "Empty Disk ID 49\n",
      "Empty Disk ID 52\n",
      "Empty Disk ID 57\n",
      "Empty Disk ID 58\n",
      "Empty Disk ID 59\n",
      "Empty Disk ID 60\n",
      "Empty Disk ID 61\n"
     ]
    }
   ],
   "source": [
    "for i in range(n_disks):\n",
    "    sel_frames = np.array(datDS[datDS[:,3]==i][:,4], dtype=int)\n",
    "    if sel_frames.size != 0:\n",
    "        pt.write_traj(DIR_SAVE + 'UnbindIndx' + str(i) + '.dcd',\n",
    "                      traj[sel_frames],\n",
    "                      overwrite=True)\n",
    "    else:\n",
    "        print('Empty Disk ID', i)"
   ]
  },
  {
   "cell_type": "markdown",
   "id": "1f2a8ab8",
   "metadata": {},
   "source": [
    "# Done!"
   ]
  },
  {
   "cell_type": "code",
   "execution_count": null,
   "id": "a2280074",
   "metadata": {},
   "outputs": [],
   "source": []
  },
  {
   "cell_type": "code",
   "execution_count": null,
   "id": "3170e722",
   "metadata": {},
   "outputs": [],
   "source": []
  },
  {
   "cell_type": "code",
   "execution_count": null,
   "id": "668978f1",
   "metadata": {},
   "outputs": [],
   "source": []
  }
 ],
 "metadata": {
  "kernelspec": {
   "display_name": "Python 3 (ipykernel)",
   "language": "python",
   "name": "python3"
  },
  "language_info": {
   "codemirror_mode": {
    "name": "ipython",
    "version": 3
   },
   "file_extension": ".py",
   "mimetype": "text/x-python",
   "name": "python",
   "nbconvert_exporter": "python",
   "pygments_lexer": "ipython3",
   "version": "3.8.5"
  }
 },
 "nbformat": 4,
 "nbformat_minor": 5
}
