version https://git-lfs.github.com/spec/v1
oid sha256:6b9ba769d67cf135df7dc14ab10ae03a6ec2a3127c24c1468cc506071bb2cea5
size 1325618
