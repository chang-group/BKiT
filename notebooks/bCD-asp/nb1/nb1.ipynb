version https://git-lfs.github.com/spec/v1
oid sha256:5d6e872f393e249ed4cc39774407beac68d83c27d27418ee6dafff9dcad7a4c1
size 1674678
