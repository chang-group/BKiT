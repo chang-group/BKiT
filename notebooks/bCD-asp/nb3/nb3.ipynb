{
 "cells": [
  {
   "cell_type": "markdown",
   "metadata": {},
   "source": [
    "# Notebook 3\n",
    "\n",
    "### In this notebook\n",
    "1. Estimate transition kernel $K_{ij}$\n",
    "2. Calculate transition lifetimes between disks $\\tau_i$\n",
    "3. Performe steady state flux calculation $q_i$\n",
    "4. Calculate free energy profile $F_i$"
   ]
  },
  {
   "cell_type": "markdown",
   "metadata": {},
   "source": [
    "### Import libraries"
   ]
  },
  {
   "cell_type": "code",
   "execution_count": 82,
   "metadata": {},
   "outputs": [],
   "source": [
    "# python libs\n",
    "import sys\n",
    "import pytraj as pt\n",
    "from sklearn.decomposition import PCA\n",
    "import numpy as np\n",
    "import matplotlib.pyplot as plt\n",
    "import scipy\n",
    "import pandas as pd\n",
    "\n",
    "# BKit modules\n",
    "from BKit.TransitionKernel import TransitionKernel\n",
    "from BKit.KinSolvers import KineticsQK"
   ]
  },
  {
   "cell_type": "markdown",
   "metadata": {},
   "source": [
    "### Load microstate labels of all short MDs"
   ]
  },
  {
   "cell_type": "code",
   "execution_count": 83,
   "metadata": {},
   "outputs": [
    {
     "name": "stdout",
     "output_type": "stream",
     "text": [
      "reading inputs from ../output/\n"
     ]
    }
   ],
   "source": [
    "dat_path = '../output/'\n",
    "file_name = 'CellIndx.npy'\n",
    "print(\"reading inputs from \" + dat_path)\n",
    "labels = np.load(dat_path + file_name)"
   ]
  },
  {
   "cell_type": "markdown",
   "metadata": {},
   "source": [
    "###  Collect transitions between disks"
   ]
  },
  {
   "cell_type": "code",
   "execution_count": 84,
   "metadata": {
    "scrolled": true
   },
   "outputs": [
    {
     "name": "stdout",
     "output_type": "stream",
     "text": [
      "number of trajs 8620\n",
      "Total transitions =  234473\n"
     ]
    }
   ],
   "source": [
    "TransK = TransitionKernel(traj_size=1000, OutCellID=1000, check_escape=True)\n",
    "TRANS = TransK.AllTrans(labels, frac=1.)\n",
    "nM = TRANS[:,2].max() # number of milestones"
   ]
  },
  {
   "cell_type": "code",
   "execution_count": 85,
   "metadata": {},
   "outputs": [],
   "source": [
    "df = pd.DataFrame(TRANS)\n",
    "df.columns = ['frame_id','disk_i','disk_j','time_i','time_j']"
   ]
  },
  {
   "cell_type": "code",
   "execution_count": 86,
   "metadata": {},
   "outputs": [
    {
     "data": {
      "text/html": [
       "<div>\n",
       "<style scoped>\n",
       "    .dataframe tbody tr th:only-of-type {\n",
       "        vertical-align: middle;\n",
       "    }\n",
       "\n",
       "    .dataframe tbody tr th {\n",
       "        vertical-align: top;\n",
       "    }\n",
       "\n",
       "    .dataframe thead th {\n",
       "        text-align: right;\n",
       "    }\n",
       "</style>\n",
       "<table border=\"1\" class=\"dataframe\">\n",
       "  <thead>\n",
       "    <tr style=\"text-align: right;\">\n",
       "      <th></th>\n",
       "      <th>frame_id</th>\n",
       "      <th>disk_i</th>\n",
       "      <th>disk_j</th>\n",
       "      <th>time_i</th>\n",
       "      <th>time_j</th>\n",
       "    </tr>\n",
       "  </thead>\n",
       "  <tbody>\n",
       "    <tr>\n",
       "      <th>234468</th>\n",
       "      <td>8606</td>\n",
       "      <td>48</td>\n",
       "      <td>47</td>\n",
       "      <td>268</td>\n",
       "      <td>269</td>\n",
       "    </tr>\n",
       "    <tr>\n",
       "      <th>234469</th>\n",
       "      <td>8606</td>\n",
       "      <td>51</td>\n",
       "      <td>50</td>\n",
       "      <td>291</td>\n",
       "      <td>297</td>\n",
       "    </tr>\n",
       "    <tr>\n",
       "      <th>234470</th>\n",
       "      <td>8606</td>\n",
       "      <td>54</td>\n",
       "      <td>53</td>\n",
       "      <td>322</td>\n",
       "      <td>323</td>\n",
       "    </tr>\n",
       "    <tr>\n",
       "      <th>234471</th>\n",
       "      <td>8611</td>\n",
       "      <td>54</td>\n",
       "      <td>53</td>\n",
       "      <td>286</td>\n",
       "      <td>287</td>\n",
       "    </tr>\n",
       "    <tr>\n",
       "      <th>234472</th>\n",
       "      <td>8611</td>\n",
       "      <td>53</td>\n",
       "      <td>52</td>\n",
       "      <td>287</td>\n",
       "      <td>288</td>\n",
       "    </tr>\n",
       "  </tbody>\n",
       "</table>\n",
       "</div>"
      ],
      "text/plain": [
       "        frame_id  disk_i  disk_j  time_i  time_j\n",
       "234468      8606      48      47     268     269\n",
       "234469      8606      51      50     291     297\n",
       "234470      8606      54      53     322     323\n",
       "234471      8611      54      53     286     287\n",
       "234472      8611      53      52     287     288"
      ]
     },
     "execution_count": 86,
     "metadata": {},
     "output_type": "execute_result"
    }
   ],
   "source": [
    "df.tail()"
   ]
  },
  {
   "cell_type": "markdown",
   "metadata": {},
   "source": [
    "### CalculateTransition Kernel  and average lifetime of each milestone"
   ]
  },
  {
   "cell_type": "code",
   "execution_count": null,
   "metadata": {},
   "outputs": [],
   "source": []
  },
  {
   "cell_type": "code",
   "execution_count": 87,
   "metadata": {
    "scrolled": true
   },
   "outputs": [],
   "source": [
    "KMAT, time = TransK.Kmat_time(TRANS, nM)\n",
    "ave_time = np.array(time)[:,1]  \n",
    "t_std = np.array(time)[:,2] \n",
    "F_std = 0.6*t_std/ave_time"
   ]
  },
  {
   "cell_type": "markdown",
   "metadata": {},
   "source": [
    "### $$\\bf{K}_{ij} \\simeq \\frac{n_{ij}}{n_i} $$\n",
    "\n",
    "* $n_i$ - number of conformations started at disk $i$\n",
    "* $n_{ij}$ - part of $n_i$ that landed in a disk $j$\n",
    "* Transition lifetime (ave_time) "
   ]
  },
  {
   "cell_type": "markdown",
   "metadata": {},
   "source": [
    "### Visualize transition kernel (it is neirest neighbour)"
   ]
  },
  {
   "cell_type": "code",
   "execution_count": 88,
   "metadata": {
    "scrolled": true
   },
   "outputs": [
    {
     "data": {
      "text/plain": [
       "Text(0, 0.5, 'Unbinding Index')"
      ]
     },
     "execution_count": 88,
     "metadata": {},
     "output_type": "execute_result"
    },
    {
     "data": {
      "image/png": "[encoded data removed]",
      "text/plain": [
       "<Figure size 576x432 with 1 Axes>"
      ]
     },
     "metadata": {
      "needs_background": "light"
     },
     "output_type": "display_data"
    }
   ],
   "source": [
    "fig = plt.figure(figsize=[8,6])\n",
    "ax = plt.imshow(KMAT, cmap='hot')\n",
    "plt.xlabel('Unbinding Index')\n",
    "plt.ylabel('Unbinding Index')\n",
    "#plt.text(60,30,s=r'$\\alpha$')"
   ]
  },
  {
   "cell_type": "markdown",
   "metadata": {},
   "source": [
    "#### $$\\bf{K} = \n",
    "      \\left(\\begin{array}{cccccccccc}\n",
    "        0.0 & 1.0 & 0.0 & \\ldots\\\\\n",
    "        0.4 & 0.0 & 0.6 & 0.0 & \\ldots  \\\\\n",
    "        0.0 & 0.5 &  0.0 & 0.5 & 0.0 & \\ldots\\\\\n",
    "        0.0 & 0.0 & \\ddots &  \\ddots & \\ddots & 0.5 & 0.0  \\\\\n",
    "        & \\ldots &  0.0 & 0.0 &  0.6 & 0.0 & 0.4 \\\\\n",
    "        & & \\ldots & 0.0 & 0.0 &  1.0 & 0.0 \\\\\n",
    "      \\end{array}\\right)$$"
   ]
  },
  {
   "cell_type": "markdown",
   "metadata": {},
   "source": [
    "### Solve for stationary flux, $q$"
   ]
  },
  {
   "cell_type": "code",
   "execution_count": 89,
   "metadata": {},
   "outputs": [],
   "source": [
    "# Provide appropriative boundary conditions\n",
    "bc_beg = ''\n",
    "bc_end = 'reflective'"
   ]
  },
  {
   "cell_type": "markdown",
   "metadata": {},
   "source": [
    "KineticsQK class has functions for both Power Iteration and Eigensolver methods.\n"
   ]
  },
  {
   "cell_type": "code",
   "execution_count": 90,
   "metadata": {},
   "outputs": [],
   "source": [
    "QK = KineticsQK(KMAT, ave_time, nM, bc = [bc_beg, bc_end])"
   ]
  },
  {
   "cell_type": "markdown",
   "metadata": {},
   "source": [
    "### Power Iteration method\n",
    "\n",
    "### $$ q_{i}^{t+1} = q_{i-1}^{t} \\frac{K_{i-1,i}}{\\sum_{i} q_{i}^{t}} + q_{i+1}^{t} \\frac{K_{i+1,i}}{\\sum_{i} q_{i}^{t}}$$\n",
    "\n",
    "* This expression is iteratively updated until change in $q_i$ becomes negligable\n",
    "* Free energy per microstate: $F_i = -k_{B}T \\log{(q_i \\tau_i)}$"
   ]
  },
  {
   "cell_type": "code",
   "execution_count": 91,
   "metadata": {},
   "outputs": [],
   "source": [
    "PMF_power, q_power = QK.PowerIter(n_iters=30000)\n",
    "PMF_power = PMF_power - PMF_power.min()"
   ]
  },
  {
   "cell_type": "markdown",
   "metadata": {},
   "source": [
    "### Eigensolver method\n",
    "\n",
    "### $$ K \\bf{q} = \\lambda \\bf{q}$$\n",
    "\n",
    "* Eigenvector corresponding to highest eigenvalue gives steady state flux $q$\n",
    "* $\\lambda$ - eigenvalues\n",
    "* $q$ - eigenvectors\n",
    "* Free energy per microstate: $F_i = -k_{B}T \\log{(q_i \\tau_i)}$"
   ]
  },
  {
   "cell_type": "code",
   "execution_count": 92,
   "metadata": {},
   "outputs": [],
   "source": [
    "PMF_eigen, q_eigen = QK.EigenSolver()\n",
    "PMF_eigen = PMF_eigen - PMF_eigen.min()"
   ]
  },
  {
   "cell_type": "markdown",
   "metadata": {},
   "source": [
    "###  Compare q obtained from both methods"
   ]
  },
  {
   "cell_type": "code",
   "execution_count": 93,
   "metadata": {},
   "outputs": [
    {
     "data": {
      "image/png": "[encoded data removed]",
      "text/plain": [
       "<Figure size 504x360 with 1 Axes>"
      ]
     },
     "metadata": {},
     "output_type": "display_data"
    }
   ],
   "source": [
    "cl='slategrey'\n",
    "fig=plt.figure(figsize=[7,5],facecolor=cl)\n",
    "plt.rcParams['axes.facecolor'] = cl\n",
    "plt.plot( range(len(q_eigen)), abs(q_eigen), color='yellow', label='q from eigensolver')\n",
    "plt.plot( range(len(q_power)), q_power, '--',color='r', label='q from power iteration')\n",
    "plt.legend()    \n",
    "plt.xlabel('Unbinding Index', fontsize=16)\n",
    "plt.ylabel(r'$q$', fontsize=16)\n",
    "plt.show()"
   ]
  },
  {
   "cell_type": "markdown",
   "metadata": {},
   "source": [
    "###  Visualize the potential of mean force (PMF) profile"
   ]
  },
  {
   "cell_type": "code",
   "execution_count": 94,
   "metadata": {},
   "outputs": [],
   "source": [
    "b=0; f=nM-1"
   ]
  },
  {
   "cell_type": "code",
   "execution_count": 95,
   "metadata": {
    "scrolled": false
   },
   "outputs": [
    {
     "data": {
      "text/plain": [
       "<matplotlib.legend.Legend at 0x7f1a3ac2c220>"
      ]
     },
     "execution_count": 95,
     "metadata": {},
     "output_type": "execute_result"
    },
    {
     "data": {
      "image/png": "[encoded data removed]",
      "text/plain": [
       "<Figure size 864x576 with 1 Axes>"
      ]
     },
     "metadata": {
      "needs_background": "light"
     },
     "output_type": "display_data"
    }
   ],
   "source": [
    "plt.figure(figsize=(12,8))\n",
    "plt.plot(range(b,f+1), PMF_power, color='yellow', ls='', marker='o' )\n",
    "plt.plot(range(b,f+1), PMF_eigen, color='salmon')\n",
    "plt.xlabel('Unbinding Index',fontsize=16)\n",
    "plt.ylabel('PMF (kcal/mol)', fontsize=16)\n",
    "plt.xticks(np.arange(b,(f+1), step=5))\n",
    "plt.tick_params(labelsize=12)\n",
    "plt.grid()\n",
    "plt.legend(['Power','Eigen'], fontsize=16)"
   ]
  },
  {
   "cell_type": "markdown",
   "metadata": {},
   "source": [
    "### Plot with error bars"
   ]
  },
  {
   "cell_type": "code",
   "execution_count": 101,
   "metadata": {},
   "outputs": [
    {
     "data": {
      "image/png": "[encoded data removed]",
      "text/plain": [
       "<Figure size 720x504 with 1 Axes>"
      ]
     },
     "metadata": {
      "needs_background": "light"
     },
     "output_type": "display_data"
    }
   ],
   "source": [
    "cl='yellow'; t_cl = 'brown'\n",
    "pl_name = 'Cyc-Asp'\n",
    "fs = 16; lw=1.3\n",
    "PMF = PMF_eigen\n",
    "fig = plt.figure(figsize = [10, 7])\n",
    "\n",
    "plt.plot(range(b,f+1), PMF, ls='--', lw=lw, color=cl)#, marker='o' )\n",
    "plt.errorbar(range(b, f+1), PMF, F_std,\n",
    "             color=cl, ecolor=cl,\n",
    "             elinewidth=0.5, capsize=1)\n",
    "plt.xlabel('Unbinding Index',fontsize=fs)\n",
    "plt.ylabel('PMF (kcal/mol)', fontsize=fs)\n",
    "plt.xticks(np.arange(b,(f+1), step=5))\n",
    "plt.tick_params(labelsize=fs-2)\n",
    "plt.xlim([0,60]); plt.ylim([0,6])\n",
    "plt.grid(lw=lw)\n",
    "fig.tight_layout()\n",
    "plt.show()"
   ]
  },
  {
   "cell_type": "code",
   "execution_count": null,
   "metadata": {},
   "outputs": [],
   "source": []
  },
  {
   "cell_type": "markdown",
   "metadata": {},
   "source": [
    "### Calculate unbinding free energy, $\\Delta G$"
   ]
  },
  {
   "cell_type": "code",
   "execution_count": 102,
   "metadata": {},
   "outputs": [
    {
     "name": "stdout",
     "output_type": "stream",
     "text": [
      "Free energy between milestones 11 and 53:\n",
      "ΔG =\t -5.252593948760823 kcal/mol\n"
     ]
    }
   ],
   "source": [
    "b_, f_ = np.argmin(PMF_eigen), np.argmax(PMF_eigen)\n",
    "print(\"Free energy between milestones %s and %s:\"%(b_, f_))\n",
    "DeltaG = -(PMF_eigen[f_] - PMF_eigen[b_])\n",
    "print(\"\\u0394G =\\t\", DeltaG, \"kcal/mol\")"
   ]
  },
  {
   "cell_type": "code",
   "execution_count": 103,
   "metadata": {},
   "outputs": [
    {
     "name": "stdout",
     "output_type": "stream",
     "text": [
      "Free energy between milestones 11 and 53:\n",
      "ΔG =\t -5.252593948761199 kcal/mol\n"
     ]
    }
   ],
   "source": [
    "b_, f_ = np.argmin(PMF_power), np.argmax(PMF_power)\n",
    "print(\"Free energy between milestones %s and %s:\"%(b_, f_))\n",
    "DeltaG = -(PMF_power[f_] - PMF_power[b_])\n",
    "print(\"\\u0394G =\\t\", DeltaG, \"kcal/mol\")"
   ]
  },
  {
   "cell_type": "markdown",
   "metadata": {},
   "source": [
    "###  Calculate MFPT\n",
    "\n",
    "### $$ \\langle \\tau \\rangle = \\sum_{i=1}^{f} q_i \\tau_i / q_f$$\n",
    "\n",
    "* $q_f$ - is a flux at finale absorbing milestone\n",
    "* This allows calculation of MFPT for any intermidiate state as well"
   ]
  },
  {
   "cell_type": "code",
   "execution_count": 104,
   "metadata": {
    "scrolled": true
   },
   "outputs": [
    {
     "name": "stdout",
     "output_type": "stream",
     "text": [
      "MFPT from milestone 11 to 53:\n",
      "MFPT =\t 4.654604E-05 ms\n"
     ]
    }
   ],
   "source": [
    "time = np.array(time)\n",
    "b = b_; f = f_\n",
    "print(\"MFPT from milestone %s to %s:\"%(b, f))\n",
    "mfpt = abs( (q_power[b:f+1]*time[:,1][b:f+1]).sum() / q_power[-1]) / 10**9\n",
    "print(\"MFPT =\\t %E ms\" % mfpt)\n"
   ]
  },
  {
   "cell_type": "code",
   "execution_count": 105,
   "metadata": {},
   "outputs": [
    {
     "name": "stdout",
     "output_type": "stream",
     "text": [
      "MFPT from milestone 11 to 53:\n",
      "MFPT =\t 4.986663E-05 ms\n"
     ]
    }
   ],
   "source": [
    "print(\"MFPT from milestone %s to %s:\"%(b, f))\n",
    "mfpt = abs( (q_eigen[b:f+1]*time[:,1][b:f+1]).sum() / q_eigen[-1]) / 10**9\n",
    "print(\"MFPT =\\t %E ms\" % mfpt)"
   ]
  },
  {
   "cell_type": "code",
   "execution_count": null,
   "metadata": {},
   "outputs": [],
   "source": []
  },
  {
   "cell_type": "code",
   "execution_count": null,
   "metadata": {},
   "outputs": [],
   "source": []
  }
 ],
 "metadata": {
  "kernelspec": {
   "display_name": "Python 3 (ipykernel)",
   "language": "python",
   "name": "python3"
  },
  "language_info": {
   "codemirror_mode": {
    "name": "ipython",
    "version": 3
   },
   "file_extension": ".py",
   "mimetype": "text/x-python",
   "name": "python",
   "nbconvert_exporter": "python",
   "pygments_lexer": "ipython3",
   "version": "3.10.5"
  }
 },
 "nbformat": 4,
 "nbformat_minor": 2
}
