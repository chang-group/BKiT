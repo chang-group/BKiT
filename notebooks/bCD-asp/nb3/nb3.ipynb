version https://git-lfs.github.com/spec/v1
oid sha256:11d0bd932c2d4345a349f61957153057cff8f8840f03e3f51d95e2a15027ed86
size 91415
