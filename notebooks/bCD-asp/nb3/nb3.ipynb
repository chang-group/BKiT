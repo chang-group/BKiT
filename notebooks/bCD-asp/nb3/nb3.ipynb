version https://git-lfs.github.com/spec/v1
oid sha256:811ff3199521c76b0bdcbbc914929bc2481acb7c5372389b43214382272f8ece
size 83823
