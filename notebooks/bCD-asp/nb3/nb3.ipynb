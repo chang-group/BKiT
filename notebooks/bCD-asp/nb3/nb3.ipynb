{
 "cells": [
  {
   "cell_type": "markdown",
   "metadata": {},
   "source": [
    "# Notebook 3\n",
    "\n",
    "### In this notebook\n",
    "1. Estimate transition kernel $K_{ij}$\n",
    "2. Calculate transition lifetimes between disks $\\tau_i$\n",
    "3. Performe steady state flux calculation $q_i$\n",
    "4. ....."
   ]
  },
  {
   "cell_type": "markdown",
   "metadata": {},
   "source": []
  },
  {
   "cell_type": "markdown",
   "metadata": {},
   "source": [
    "### Import libraries"
   ]
  },
  {
   "cell_type": "code",
   "execution_count": 4,
   "metadata": {},
   "outputs": [],
   "source": [
    "# python libs\n",
    "import sys\n",
    "import pytraj as pt\n",
    "from sklearn.decomposition import PCA\n",
    "import numpy as np\n",
    "import matplotlib.pyplot as plt\n",
    "import scipy\n",
    "\n",
    "# BKit modules\n",
    "from BKit.TransitionKernel import TransitionKernel\n",
    "from BKit.KinSolvers import KineticsQK"
   ]
  },
  {
   "cell_type": "markdown",
   "metadata": {},
   "source": [
    "### Load microstate labels of all short MDs"
   ]
  },
  {
   "cell_type": "code",
   "execution_count": 5,
   "metadata": {},
   "outputs": [
    {
     "name": "stdout",
     "output_type": "stream",
     "text": [
      "reading inputs from ../output/\n"
     ]
    }
   ],
   "source": [
    "dat_path = '../output/'\n",
    "print(\"reading inputs from \" + dat_path)\n",
    "MIDX = np.load(dat_path + 'CellIndx.npy')"
   ]
  },
  {
   "cell_type": "markdown",
   "metadata": {},
   "source": [
    "###  Collect transitions between disks"
   ]
  },
  {
   "cell_type": "code",
   "execution_count": 8,
   "metadata": {
    "scrolled": true
   },
   "outputs": [
    {
     "name": "stdout",
     "output_type": "stream",
     "text": [
      "number of trajs 8620\n",
      "Total transitions =  234473\n"
     ]
    }
   ],
   "source": [
    "TransK = TransitionKernel(traj_size=1000, OutCellID=1000, check_escape=True)\n",
    "TRANS = TransK.AllTrans(MIDX, frac=1.)\n",
    "nM = 54 #TRANS[:,2].max()"
   ]
  },
  {
   "cell_type": "code",
   "execution_count": null,
   "metadata": {},
   "outputs": [],
   "source": []
  },
  {
   "cell_type": "markdown",
   "metadata": {},
   "source": [
    "### Transition Kernel  and average lifetime of each milestone"
   ]
  },
  {
   "cell_type": "code",
   "execution_count": 9,
   "metadata": {
    "scrolled": true
   },
   "outputs": [],
   "source": [
    "KMAT, time = TransK.Kmat_time(TRANS, nM)\n",
    "ave_time = np.array(time)[:,1] # getting only time part\n",
    "t_std = np.array(time)[:,2]\n",
    "F_std = 0.6*t_std/ave_time"
   ]
  },
  {
   "cell_type": "code",
   "execution_count": 1,
   "metadata": {
    "scrolled": true
   },
   "outputs": [],
   "source": [
    "#fig = plt.figure(figsize=[8,6])\n",
    "#ax = plt.imshow(KMAT, cmap='hot_r')\n",
    "#plt.xlabel('Cell Index'); plt.ylabel('Cell Index')"
   ]
  },
  {
   "cell_type": "code",
   "execution_count": 10,
   "metadata": {},
   "outputs": [
    {
     "data": {
      "text/plain": [
       "(54, 54)"
      ]
     },
     "execution_count": 10,
     "metadata": {},
     "output_type": "execute_result"
    }
   ],
   "source": [
    "KMAT.shape"
   ]
  },
  {
   "cell_type": "markdown",
   "metadata": {},
   "source": [
    "### $$\\bf{K} = \n",
    "      \\left(\\begin{array}{cccccccccc}\n",
    "        0.0 & 1.0 & 0.0 & \\ldots\\\\\n",
    "        0.4 & 0.0 & 0.6 & 0.0 & \\ldots  \\\\\n",
    "        0.0 & 0.5 &  0.0 & 0.5 & 0.0 & \\ldots\\\\\n",
    "        0.0 & 0.0 & \\ddots &  \\ddots & \\ddots & 0.5 & 0.0  \\\\\n",
    "        & \\ldots &  0.0 & 0.0 &  0.6 & 0.0 & 0.4 \\\\\n",
    "        & & \\ldots & 0.0 & 0.0 &  1.0 & 0.0 \\\\\n",
    "      \\end{array}\\right)$$"
   ]
  },
  {
   "cell_type": "markdown",
   "metadata": {},
   "source": []
  },
  {
   "cell_type": "markdown",
   "metadata": {},
   "source": [
    "### Solve for stationary flux, q using eigenvalue solver and power iteration"
   ]
  },
  {
   "cell_type": "code",
   "execution_count": 11,
   "metadata": {},
   "outputs": [],
   "source": [
    "# Provide appropriative boundary condition to the last milestone\n",
    "bc_beg = ''\n",
    "bc_end = 'reflective'\n",
    "QK = KineticsQK(KMAT, ave_time, nM, bc = [bc_beg, bc_end])\n",
    "PMF_power, q_power = QK.PowerIter(n_iters=30000)\n",
    "PMF_eigen, q_eigen = QK.EigenSolver()\n",
    "\n",
    "PMF_power = PMF_power - PMF_power.min()\n",
    "PMF_eigen = PMF_eigen - PMF_eigen.min()"
   ]
  },
  {
   "cell_type": "markdown",
   "metadata": {},
   "source": [
    "###  Compare q obtained from both methods"
   ]
  },
  {
   "cell_type": "code",
   "execution_count": 12,
   "metadata": {},
   "outputs": [
    {
     "data": {
      "image/png": "[encoded data removed]",
      "text/plain": [
       "<Figure size 504x360 with 1 Axes>"
      ]
     },
     "metadata": {
      "needs_background": "light"
     },
     "output_type": "display_data"
    }
   ],
   "source": [
    "#cl='slategrey'\n",
    "fig=plt.figure(figsize=[7,5])#facecolor=cl,)\n",
    "#plt.rcParams['axes.facecolor'] = cl\n",
    "plt.plot( range(len(q_eigen)), abs(q_eigen), color='yellow', label='q from eigensolver')\n",
    "plt.plot( range(len(q_power)), q_power, '--',color='r', label='q from power iteration')\n",
    "plt.legend()    \n",
    "plt.xlabel('Unbinding Index', fontsize=16)\n",
    "plt.ylabel('q', fontsize=16)\n",
    "plt.show()"
   ]
  },
  {
   "cell_type": "markdown",
   "metadata": {},
   "source": [
    "###  Visualize the potential of mean force (PMF) profile"
   ]
  },
  {
   "cell_type": "code",
   "execution_count": 13,
   "metadata": {},
   "outputs": [],
   "source": [
    "b=0; f=nM-1"
   ]
  },
  {
   "cell_type": "code",
   "execution_count": 15,
   "metadata": {
    "scrolled": false
   },
   "outputs": [
    {
     "data": {
      "text/plain": [
       "<matplotlib.legend.Legend at 0x7f27bc6d5c40>"
      ]
     },
     "execution_count": 15,
     "metadata": {},
     "output_type": "execute_result"
    },
    {
     "data": {
      "image/png": "[encoded data removed]",
      "text/plain": [
       "<Figure size 864x576 with 1 Axes>"
      ]
     },
     "metadata": {
      "needs_background": "light"
     },
     "output_type": "display_data"
    }
   ],
   "source": [
    "plt.figure(figsize=(12,8))\n",
    "plt.plot(range(b,f+1), PMF_power, color='yellow', ls='', marker='o' )\n",
    "plt.plot(range(b,f+1), PMF_eigen, color='salmon')\n",
    "plt.xlabel('Unbinding Index',fontsize=16)\n",
    "plt.ylabel('PMF (kcal/mol)', fontsize=16)\n",
    "plt.xticks(np.arange(b,(f+1), step=5))\n",
    "plt.tick_params(labelsize=12)\n",
    "plt.grid()\n",
    "plt.legend(['Power','Eigen'], fontsize=16)"
   ]
  },
  {
   "cell_type": "code",
   "execution_count": null,
   "metadata": {},
   "outputs": [],
   "source": []
  },
  {
   "cell_type": "code",
   "execution_count": 16,
   "metadata": {},
   "outputs": [
    {
     "data": {
      "image/png": "[encoded data removed]",
      "text/plain": [
       "<Figure size 374.4x259.2 with 1 Axes>"
      ]
     },
     "metadata": {
      "needs_background": "light"
     },
     "output_type": "display_data"
    }
   ],
   "source": [
    "cl='darkcyan'; t_cl = 'brown'\n",
    "pl_name = 'Cyc-Asp'\n",
    "fs = 11; lw=.3\n",
    "PMF = PMF_eigen\n",
    "fig = plt.figure(figsize = [5.2, 3.6])\n",
    "plt.plot(range(b,f+1), PMF, ls='--', lw=lw, color=cl)#, marker='o' )\n",
    "plt.errorbar(range(b, f+1), PMF, F_std,\n",
    "             color=cl, ecolor=cl,\n",
    "             elinewidth=0.5, capsize=1)\n",
    "plt.xlabel('Unbinding Index',fontsize=fs)\n",
    "plt.ylabel('PMF (kcal/mol)', fontsize=fs)\n",
    "plt.xticks(np.arange(b,(f+1), step=5))\n",
    "plt.tick_params(labelsize=fs-2)\n",
    "plt.xlim([0,60]); plt.ylim([0,6])\n",
    "plt.grid(lw=lw)\n",
    "\n",
    "fig.tight_layout()\n",
    "plt.savefig(pl_name + 'FreeE.pdf')\n",
    "plt.show()"
   ]
  },
  {
   "cell_type": "code",
   "execution_count": null,
   "metadata": {},
   "outputs": [],
   "source": []
  },
  {
   "cell_type": "markdown",
   "metadata": {},
   "source": [
    "### Calculate unbinding free energy, $\\Delta G$"
   ]
  },
  {
   "cell_type": "code",
   "execution_count": 17,
   "metadata": {},
   "outputs": [
    {
     "name": "stdout",
     "output_type": "stream",
     "text": [
      "Free energy between milestones 11 and 53:\n",
      "ΔG =\t -5.252593948760877 kcal/mol\n"
     ]
    }
   ],
   "source": [
    "PMF_eigen = PMF_eigen[0:80] # rm last a few points\n",
    "b_, f_ = np.argmin(PMF_eigen), np.argmax(PMF_eigen)\n",
    "print(\"Free energy between milestones %s and %s:\"%(b_, f_))\n",
    "DeltaG = -(PMF_eigen[f_] - PMF_eigen[b_])\n",
    "print(\"\\u0394G =\\t\", DeltaG, \"kcal/mol\")"
   ]
  },
  {
   "cell_type": "code",
   "execution_count": 20,
   "metadata": {},
   "outputs": [
    {
     "name": "stdout",
     "output_type": "stream",
     "text": [
      "Free energy between milestones 3 and 59:\n",
      "ΔG =\t -4.998289398952811 kcal/mol\n"
     ]
    }
   ],
   "source": [
    "PMF_power = PMF_power[0:80] # rm last a few points\n",
    "b_, f_ = np.argmin(PMF_power), np.argmax(PMF_power)\n",
    "print(\"Free energy between milestones %s and %s:\"%(b_, f_))\n",
    "DeltaG = -(PMF_power[f_] - PMF_power[b_])\n",
    "print(\"\\u0394G =\\t\", DeltaG, \"kcal/mol\")"
   ]
  },
  {
   "cell_type": "markdown",
   "metadata": {},
   "source": [
    "###  Calculate MFPT"
   ]
  },
  {
   "cell_type": "code",
   "execution_count": 21,
   "metadata": {
    "scrolled": true
   },
   "outputs": [
    {
     "name": "stdout",
     "output_type": "stream",
     "text": [
      "MFPT from milestone 3 to 59:\n",
      "MFPT =\t 8.782217E-05 ms\n"
     ]
    }
   ],
   "source": [
    "time = np.array(time)\n",
    "b = b_; f = f_\n",
    "print(\"MFPT from milestone %s to %s:\"%(b, f))\n",
    "mfpt = abs( (q_power[b:f+1]*time[:,1][b:f+1]).sum() / q_power[-1]) / 10**9\n",
    "print(\"MFPT =\\t %E ms\" % mfpt)\n"
   ]
  },
  {
   "cell_type": "code",
   "execution_count": 22,
   "metadata": {},
   "outputs": [
    {
     "name": "stdout",
     "output_type": "stream",
     "text": [
      "MFPT from milestone 3 to 59:\n",
      "MFPT =\t 8.884634E-05 ms\n"
     ]
    }
   ],
   "source": [
    "print(\"MFPT from milestone %s to %s:\"%(b, f))\n",
    "mfpt = abs( (q_eigen[b:f+1]*time[:,1][b:f+1]).sum() / q_eigen[-1]) / 10**9\n",
    "print(\"MFPT =\\t %E ms\" % mfpt)"
   ]
  },
  {
   "cell_type": "code",
   "execution_count": null,
   "metadata": {},
   "outputs": [],
   "source": []
  },
  {
   "cell_type": "code",
   "execution_count": null,
   "metadata": {},
   "outputs": [],
   "source": []
  }
 ],
 "metadata": {
  "kernelspec": {
   "display_name": "Python 3 (ipykernel)",
   "language": "python",
   "name": "python3"
  },
  "language_info": {
   "codemirror_mode": {
    "name": "ipython",
    "version": 3
   },
   "file_extension": ".py",
   "mimetype": "text/x-python",
   "name": "python",
   "nbconvert_exporter": "python",
   "pygments_lexer": "ipython3",
   "version": "3.8.5"
  }
 },
 "nbformat": 4,
 "nbformat_minor": 2
}
