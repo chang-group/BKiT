version https://git-lfs.github.com/spec/v1
oid sha256:0a097b711ea327b93dbd94aabcac7ff93bffa3ca8233b9fcae32a9ffd04876f4
size 1327878
