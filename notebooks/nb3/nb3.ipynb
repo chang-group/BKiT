version https://git-lfs.github.com/spec/v1
oid sha256:efb418613e426e3fe0ff008b2c5bc344e6fcd49ddd344b74146dc229af742b1d
size 85183
